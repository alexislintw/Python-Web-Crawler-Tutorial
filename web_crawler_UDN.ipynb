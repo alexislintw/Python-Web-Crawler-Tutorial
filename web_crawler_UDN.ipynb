{
  "nbformat": 4,
  "nbformat_minor": 0,
  "metadata": {
    "colab": {
      "name": "web_crawler_UDN.ipynb",
      "provenance": [],
      "collapsed_sections": [],
      "mount_file_id": "1iA-3uO-1n3gKvgySbmqvVGHnfUiNElBX",
      "authorship_tag": "ABX9TyOSrNl6CIxO1bq9y1mlxBdg",
      "include_colab_link": true
    },
    "kernelspec": {
      "display_name": "Python 3",
      "name": "python3"
    }
  },
  "cells": [
    {
      "cell_type": "markdown",
      "metadata": {
        "id": "view-in-github",
        "colab_type": "text"
      },
      "source": [
        "<a href=\"https://colab.research.google.com/github/alexislintw/Python-Web-Crawler-Tutorial/blob/main/web_crawler_UDN.ipynb\" target=\"_parent\"><img src=\"https://colab.research.google.com/assets/colab-badge.svg\" alt=\"Open In Colab\"/></a>"
      ]
    },
    {
      "cell_type": "markdown",
      "metadata": {
        "id": "icjZ5SBCjGEn"
      },
      "source": [
        "# Python Web Crawler Tutorial\n",
        "\n",
        "### Demonstrates how to crawl the Economic Daily website to collect text data, especially how to use Selenium to scroll down the page.\n",
        "\n",
        "- Author: Alexis\n",
        "- Created: 2021/1/28\n",
        "- Updated: 2022/3/2\n",
        "- Data source: https://money.udn.com/money/index\n"
      ]
    },
    {
      "cell_type": "markdown",
      "source": [
        "### Install toolkits"
      ],
      "metadata": {
        "id": "ry0WwBXzxdeU"
      }
    },
    {
      "cell_type": "code",
      "metadata": {
        "id": "Ct8p5HnxO57m",
        "colab": {
          "base_uri": "https://localhost:8080/"
        },
        "outputId": "535e6989-efaf-4d13-a129-19c92557af3f"
      },
      "source": [
        "!pip install selenium"
      ],
      "execution_count": null,
      "outputs": [
        {
          "output_type": "stream",
          "name": "stdout",
          "text": [
            "Requirement already satisfied: selenium in /usr/local/lib/python3.7/dist-packages (4.1.0)\n",
            "Requirement already satisfied: trio-websocket~=0.9 in /usr/local/lib/python3.7/dist-packages (from selenium) (0.9.2)\n",
            "Requirement already satisfied: urllib3[secure]~=1.26 in /usr/local/lib/python3.7/dist-packages (from selenium) (1.26.7)\n",
            "Requirement already satisfied: trio~=0.17 in /usr/local/lib/python3.7/dist-packages (from selenium) (0.19.0)\n",
            "Requirement already satisfied: attrs>=19.2.0 in /usr/local/lib/python3.7/dist-packages (from trio~=0.17->selenium) (21.2.0)\n",
            "Requirement already satisfied: outcome in /usr/local/lib/python3.7/dist-packages (from trio~=0.17->selenium) (1.1.0)\n",
            "Requirement already satisfied: sniffio in /usr/local/lib/python3.7/dist-packages (from trio~=0.17->selenium) (1.2.0)\n",
            "Requirement already satisfied: idna in /usr/local/lib/python3.7/dist-packages (from trio~=0.17->selenium) (2.10)\n",
            "Requirement already satisfied: sortedcontainers in /usr/local/lib/python3.7/dist-packages (from trio~=0.17->selenium) (2.4.0)\n",
            "Requirement already satisfied: async-generator>=1.9 in /usr/local/lib/python3.7/dist-packages (from trio~=0.17->selenium) (1.10)\n",
            "Requirement already satisfied: wsproto>=0.14 in /usr/local/lib/python3.7/dist-packages (from trio-websocket~=0.9->selenium) (1.0.0)\n",
            "Requirement already satisfied: pyOpenSSL>=0.14 in /usr/local/lib/python3.7/dist-packages (from urllib3[secure]~=1.26->selenium) (21.0.0)\n",
            "Requirement already satisfied: cryptography>=1.3.4 in /usr/local/lib/python3.7/dist-packages (from urllib3[secure]~=1.26->selenium) (36.0.1)\n",
            "Requirement already satisfied: certifi in /usr/local/lib/python3.7/dist-packages (from urllib3[secure]~=1.26->selenium) (2021.10.8)\n",
            "Requirement already satisfied: cffi>=1.12 in /usr/local/lib/python3.7/dist-packages (from cryptography>=1.3.4->urllib3[secure]~=1.26->selenium) (1.15.0)\n",
            "Requirement already satisfied: pycparser in /usr/local/lib/python3.7/dist-packages (from cffi>=1.12->cryptography>=1.3.4->urllib3[secure]~=1.26->selenium) (2.21)\n",
            "Requirement already satisfied: six>=1.5.2 in /usr/local/lib/python3.7/dist-packages (from pyOpenSSL>=0.14->urllib3[secure]~=1.26->selenium) (1.15.0)\n",
            "Requirement already satisfied: h11<1,>=0.9.0 in /usr/local/lib/python3.7/dist-packages (from wsproto>=0.14->trio-websocket~=0.9->selenium) (0.12.0)\n"
          ]
        }
      ]
    },
    {
      "cell_type": "code",
      "metadata": {
        "id": "uKoQe4tFO9Gy",
        "colab": {
          "base_uri": "https://localhost:8080/"
        },
        "outputId": "fdf11d65-c49c-44d9-f15d-d51dc648e13a"
      },
      "source": [
        "!apt-get update"
      ],
      "execution_count": null,
      "outputs": [
        {
          "output_type": "stream",
          "name": "stdout",
          "text": [
            "\r0% [Working]\r            \rHit:1 https://cloud.r-project.org/bin/linux/ubuntu bionic-cran40/ InRelease\n",
            "\r0% [Waiting for headers] [Waiting for headers] [Waiting for headers] [Waiting f\r                                                                               \rIgn:2 https://developer.download.nvidia.com/compute/cuda/repos/ubuntu1804/x86_64  InRelease\n",
            "\r0% [Waiting for headers] [Waiting for headers] [Waiting for headers] [Waiting f\r0% [1 InRelease gpgv 3,626 B] [Waiting for headers] [Waiting for headers] [Wait\r                                                                               \rHit:3 http://security.ubuntu.com/ubuntu bionic-security InRelease\n",
            "\r                                                                               \rHit:4 http://ppa.launchpad.net/c2d4u.team/c2d4u4.0+/ubuntu bionic InRelease\n",
            "Ign:5 https://developer.download.nvidia.com/compute/machine-learning/repos/ubuntu1804/x86_64  InRelease\n",
            "Hit:6 https://developer.download.nvidia.com/compute/cuda/repos/ubuntu1804/x86_64  Release\n",
            "Hit:7 http://archive.ubuntu.com/ubuntu bionic InRelease\n",
            "Hit:8 https://developer.download.nvidia.com/compute/machine-learning/repos/ubuntu1804/x86_64  Release\n",
            "Hit:9 http://archive.ubuntu.com/ubuntu bionic-updates InRelease\n",
            "Hit:10 http://ppa.launchpad.net/cran/libgit2/ubuntu bionic InRelease\n",
            "Hit:11 http://archive.ubuntu.com/ubuntu bionic-backports InRelease\n",
            "Hit:12 http://ppa.launchpad.net/deadsnakes/ppa/ubuntu bionic InRelease\n",
            "Hit:13 http://ppa.launchpad.net/graphics-drivers/ppa/ubuntu bionic InRelease\n",
            "Reading package lists... Done\n"
          ]
        }
      ]
    },
    {
      "cell_type": "code",
      "metadata": {
        "id": "rUvYtsszPAHP",
        "colab": {
          "base_uri": "https://localhost:8080/"
        },
        "outputId": "d9428a82-d88e-42bd-cdb2-013ee485c6cc"
      },
      "source": [
        "!apt install chromium-chromedriver"
      ],
      "execution_count": null,
      "outputs": [
        {
          "output_type": "stream",
          "name": "stdout",
          "text": [
            "Reading package lists... Done\n",
            "Building dependency tree       \n",
            "Reading state information... Done\n",
            "chromium-chromedriver is already the newest version (95.0.4638.69-0ubuntu0.18.04.1).\n",
            "0 upgraded, 0 newly installed, 0 to remove and 85 not upgraded.\n"
          ]
        }
      ]
    },
    {
      "cell_type": "markdown",
      "metadata": {
        "id": "vWxZkdvNg6CB"
      },
      "source": [
        "### Scroll down the search results page"
      ]
    },
    {
      "cell_type": "code",
      "metadata": {
        "id": "CD-6FZTIEaON",
        "colab": {
          "base_uri": "https://localhost:8080/"
        },
        "outputId": "6b2bcb60-4fed-4d9a-9757-5d81010081b3"
      },
      "source": [
        "import os\n",
        "import sys\n",
        "import time\n",
        "from selenium import webdriver\n",
        "\n",
        "# Set parameters: search keywords\n",
        "keyword = '台積電'\n",
        "\n",
        "# Add the chromedriver to system path\n",
        "sys.path.append('/usr/lib/chromium-browser/chromedriver')\n",
        "\n",
        "# Set browser options\n",
        "options = webdriver.ChromeOptions()\n",
        "options.add_argument('--headless')\n",
        "options.add_argument('--no-sandbox')\n",
        "\n",
        "# Open the browser\n",
        "driver = webdriver.Chrome('chromedriver',options=options)\n",
        "\n",
        "# Create full URL\n",
        "url = 'https://money.udn.com/search/result/1001/'+keyword\n",
        "driver.get(url)\n",
        "\n",
        "# Find the headline nodes\n",
        "#from selenium.webdriver.common.by import By\n",
        "#headline_nodes = driver.find_elements(By.CLASS_NAME,'story__headline')\n",
        "headline_nodes = driver.find_elements_by_class_name('story__headline')\n",
        "print(len(headline_nodes))\n",
        "\n",
        "# Display the headlines before scroll\n",
        "for node in headline_nodes:\n",
        "    print(node.text)\n",
        "\n",
        "print('-'*30)\n",
        "\n",
        "# Scroll down n times\n",
        "n = 3\n",
        "for i in range(n):\n",
        "    driver.execute_script(\"window.scrollTo(0,document.body.scrollHeight)\")\n",
        "time.sleep(3)\n",
        "\n",
        "# Find the headline nodes\n",
        "headline_nodes = driver.find_elements_by_class_name('story__headline')\n",
        "print(len(headline_nodes))\n",
        "\n",
        "# Display the headlines after scroll\n",
        "for node in headline_nodes:\n",
        "    print(node.text)\n",
        "\n",
        "# Get the web page source code\n",
        "html = driver.page_source\n",
        "\n",
        "# Close the browser\n",
        "driver.quit()"
      ],
      "execution_count": null,
      "outputs": [
        {
          "output_type": "stream",
          "name": "stderr",
          "text": [
            "/usr/local/lib/python3.7/dist-packages/ipykernel_launcher.py:27: DeprecationWarning: find_elements_by_* commands are deprecated. Please use find_elements() instead\n"
          ]
        },
        {
          "output_type": "stream",
          "name": "stdout",
          "text": [
            "19\n",
            "中油高煉廠轉型循環材料研發專區 今天盛大啟用\n",
            "內外資歸隊 法人：台積電擔綱元月行情衝關要角\n",
            "台股盤中創高 閃見萬八\n",
            "趨勢觀察/透視明年經濟七個風險\n",
            "橋頭科學園區 20大廠進駐\n",
            "一周熱門零股/台積、中鋼、鴻海 人氣爆棚\n",
            "半導體測試需求增 台廠沾光\n",
            "台積電大陸供應鏈 炬光科技科創板上市\n",
            "世界、聯電 認購火紅\n",
            "台積電羅鎮球：明年量產3奈米 汽車N5A明年Q3推出\n",
            "台股市值再創高 今年資本市場大贏家是誰？\n",
            "橋科選地招商啟動典禮 半導體、航太、電動車業者插旗\n",
            "外資意外加碼台股 2022趨勢股搶先看\n",
            "漢科系統科技 推動高科技廠房整廠全面升級\n",
            "儲盈科技領先業界技術亮相　灌注綠能經濟新能量\n",
            "陳其邁：橋頭園區期程縮短3年 將攜廠商打世界盃\n",
            "亞翔前11月新接單369億元 明年營收有望創紀錄\n",
            "旺股報到！專家點名 2022年最旺黑馬\n",
            "野村台股操盤人筆記 升息利空正在消化 明年半導體仍吸睛\n",
            "------------------------------\n"
          ]
        },
        {
          "output_type": "stream",
          "name": "stderr",
          "text": [
            "/usr/local/lib/python3.7/dist-packages/ipykernel_launcher.py:42: DeprecationWarning: find_elements_by_* commands are deprecated. Please use find_elements() instead\n"
          ]
        },
        {
          "output_type": "stream",
          "name": "stdout",
          "text": [
            "57\n",
            "中油高煉廠轉型循環材料研發專區 今天盛大啟用\n",
            "內外資歸隊 法人：台積電擔綱元月行情衝關要角\n",
            "台股盤中創高 閃見萬八\n",
            "趨勢觀察/透視明年經濟七個風險\n",
            "橋頭科學園區 20大廠進駐\n",
            "一周熱門零股/台積、中鋼、鴻海 人氣爆棚\n",
            "半導體測試需求增 台廠沾光\n",
            "台積電大陸供應鏈 炬光科技科創板上市\n",
            "世界、聯電 認購火紅\n",
            "台積電羅鎮球：明年量產3奈米 汽車N5A明年Q3推出\n",
            "台股市值再創高 今年資本市場大贏家是誰？\n",
            "橋科選地招商啟動典禮 半導體、航太、電動車業者插旗\n",
            "外資意外加碼台股 2022趨勢股搶先看\n",
            "漢科系統科技 推動高科技廠房整廠全面升級\n",
            "儲盈科技領先業界技術亮相　灌注綠能經濟新能量\n",
            "陳其邁：橋頭園區期程縮短3年 將攜廠商打世界盃\n",
            "亞翔前11月新接單369億元 明年營收有望創紀錄\n",
            "旺股報到！專家點名 2022年最旺黑馬\n",
            "野村台股操盤人筆記 升息利空正在消化 明年半導體仍吸睛\n",
            "聖誕前夕徵才大玩魷魚遊戲 歡喜就業\n",
            "巴菲特vs.索羅斯...每個投資人手上都要有兩張牌：存股與波段交易\n",
            "台積電近了！ 高煉廠變更案獲都委會審議通過\n",
            "創鑫智慧進駐竹科辦公室 啟動7奈米AI推論晶片計畫\n",
            "千金股再增新血？500元以上最飆股是這幾檔\n",
            "【總編推薦】台股萬八引擎不夠猛 年關將近新股抽籤好吸金 股民嗨翻拚賺「年終獎金」\n",
            "台股終場跌落萬八 收漲14.98點\n",
            "台指期收盤上漲7點 守住萬八點關卡\n",
            "台股盤中突破萬八大關 終場小漲14點收17961.64點\n",
            "高雄橋科廠商名單曝光 鴻海、順益等電動車產業進駐\n",
            "萬八點得而復失 台股收漲14點盤中創歷史新高\n",
            "橋科招商選地　搶進半導體、電動車大廠名單曝光\n",
            "橋科招商選地 搶進半導體、電動車大廠名單曝光\n",
            "英特爾謝承儒：測試和電晶體製造成本縮小 盼人才投入\n",
            "橋科今下午招商選地 這些半導體、電動車大廠搶進插旗\n",
            "存股族注意！金控逾千億現金股息 最快後年可提早發\n",
            "影／基辛格才嗆台又馬上求和　解析台積電與英特爾的糾葛\n",
            "iPhone 14高階面板 傳韓國樂金打破三星獨占供應\n",
            "2021台灣10大新聞 東奧佳績太魯閣號事件入列\n",
            "中小型股表現活潑 台股攻上萬八後震盪\n",
            "大廠進駐在即 立委催北高雄下水道建設加速\n",
            "台股早盤漲逾77點突破萬八 創波段新高\n",
            "台股早盤一度站上萬八大關 台積電開出平盤\n",
            "台指期開盤上漲63點 突破萬八關卡\n",
            "AMD增加採購格芯晶圓 合約延為4年金額21億美元\n",
            "台積電ADR跌0.5% 較台北交易股票溢價10.48%\n",
            "和泰車獵才 底薪調高20%\n",
            "台股內外資催動 衝關萬八\n",
            "日本瞄準電動車半導體 引台積電設廠重振九州矽島\n",
            "台積登600元 10檔概念股勇\n",
            "永續期 避險優選\n",
            "好想搬去當有錢人！全台最富裕八縣市揭曉，每戶可支配所得平均數100萬起跳\n",
            "2021年GDP成長破6 2022年還能一帆風順？\n",
            "台灣企業綠電供不應求　再生能源市場陷弱肉強食？\n",
            "黃崇仁：未來三年晶圓代工仍吃緊！謝金河看半導體股「美光最近股價給了答案」\n",
            "台積電送暖 北中南廠區巡迴舉辦愛心市集\n",
            "半導體分工確立，為何各國還拚招商？因為全球不想只依賴台灣和韓國\n",
            "房市愈打愈旺？5大銀行11月新增房貸金額創近6年新高\n"
          ]
        }
      ]
    },
    {
      "cell_type": "markdown",
      "metadata": {
        "id": "56Oi66lN9u5E"
      },
      "source": [
        "### Parse web page for article list"
      ]
    },
    {
      "cell_type": "code",
      "metadata": {
        "id": "v0dmv7ru7kst",
        "colab": {
          "base_uri": "https://localhost:8080/"
        },
        "outputId": "b40fe0ec-a446-44c6-9d1a-bacbcbdc89b5"
      },
      "source": [
        "import bs4\n",
        "\n",
        "# Parse web page/html source code\n",
        "soup = bs4.BeautifulSoup(html,'lxml')\n",
        "\n",
        "# Create a container to hold article links\n",
        "urls = []\n",
        "\n",
        "# Get the parent node of the target node\n",
        "top_node = soup.find('ul',class_='story-list-holder')\n",
        "if top_node != None:\n",
        "    div_nodes = top_node.find_all('div',class_='story__content')\n",
        "    for div_node in div_nodes:\n",
        "        # Get the article URL\n",
        "        a_node = div_node.find('a')\n",
        "        url = a_node.get('href')                \n",
        "        print(url)    \n",
        "        # Put the url in container\n",
        "        urls.append(url)\n",
        "\n",
        "        # Get the article title\n",
        "        headline_node = div_node.find('h3',class_='story__headline')\n",
        "        if headline_node != None:\n",
        "            headline = headline_node.text.strip()\n",
        "            print(headline)\n",
        "\n",
        "print(len(urls))"
      ],
      "execution_count": null,
      "outputs": [
        {
          "output_type": "stream",
          "name": "stdout",
          "text": [
            "https://money.udn.com/money/story/5612/5987515?from=edn_search_result\n",
            "中油高煉廠轉型循環材料研發專區 今天盛大啟用\n",
            "https://money.udn.com/money/story/5607/5987460?from=edn_search_result\n",
            "內外資歸隊 法人：台積電擔綱元月行情衝關要角\n",
            "https://money.udn.com/money/story/5607/5986850?from=edn_search_result\n",
            "台股盤中創高 閃見萬八\n",
            "https://money.udn.com/money/story/122331/5984011?from=edn_search_result\n",
            "趨勢觀察/透視明年經濟七個風險\n",
            "https://money.udn.com/money/story/5612/5986845?from=edn_search_result\n",
            "橋頭科學園區 20大廠進駐\n",
            "https://money.udn.com/money/story/5607/5986572?from=edn_search_result\n",
            "一周熱門零股/台積、中鋼、鴻海 人氣爆棚\n",
            "https://money.udn.com/money/story/11162/5986801?from=edn_search_result\n",
            "半導體測試需求增 台廠沾光\n",
            "https://money.udn.com/money/story/5603/5986684?from=edn_search_result\n",
            "台積電大陸供應鏈 炬光科技科創板上市\n",
            "https://money.udn.com/money/story/5739/5986784?from=edn_search_result\n",
            "世界、聯電 認購火紅\n",
            "https://money.udn.com/money/story/5612/5986691?from=edn_search_result\n",
            "台積電羅鎮球：明年量產3奈米 汽車N5A明年Q3推出\n",
            "https://money.udn.com/money/story/5607/5986433?from=edn_search_result\n",
            "台股市值再創高 今年資本市場大贏家是誰？\n",
            "https://money.udn.com/money/story/5635/5986604?from=edn_search_result\n",
            "橋科選地招商啟動典禮   半導體、航太、電動車業者插旗\n",
            "https://money.udn.com/money/story/5607/5986551?from=edn_search_result\n",
            "外資意外加碼台股  2022趨勢股搶先看\n",
            "https://money.udn.com/money/story/122612/5986530?from=edn_search_result\n",
            "漢科系統科技   推動高科技廠房整廠全面升級\n",
            "https://money.udn.com/money/story/122612/5986518?from=edn_search_result\n",
            "儲盈科技領先業界技術亮相　灌注綠能經濟新能量\n",
            "https://money.udn.com/money/story/5612/5986448?from=edn_search_result\n",
            "陳其邁：橋頭園區期程縮短3年 將攜廠商打世界盃\n",
            "https://money.udn.com/money/story/5612/5986442?from=edn_search_result\n",
            "亞翔前11月新接單369億元  明年營收有望創紀錄\n",
            "https://money.udn.com/money/story/5607/5986340?from=edn_search_result\n",
            "旺股報到！專家點名 2022年最旺黑馬\n",
            "https://money.udn.com/money/story/5636/5986345?from=edn_search_result\n",
            "野村台股操盤人筆記  升息利空正在消化 明年半導體仍吸睛\n",
            "https://money.udn.com/money/story/11799/5986263?from=edn_search_result\n",
            "聖誕前夕徵才大玩魷魚遊戲 歡喜就業\n",
            "https://money.udn.com/money/story/12040/5986227?from=edn_search_result\n",
            "巴菲特vs.索羅斯...每個投資人手上都要有兩張牌：存股與波段交易\n",
            "https://money.udn.com/money/story/5621/5986149?from=edn_search_result\n",
            "台積電近了！ 高煉廠變更案獲都委會審議通過\n",
            "https://money.udn.com/money/story/5612/5986066?from=edn_search_result\n",
            "創鑫智慧進駐竹科辦公室 啟動7奈米AI推論晶片計畫\n",
            "https://money.udn.com/money/story/5607/5985794?from=edn_search_result\n",
            "千金股再增新血？500元以上最飆股是這幾檔\n",
            "https://money.udn.com/money/story/5607/5984755?from=edn_search_result\n",
            "【總編推薦】台股萬八引擎不夠猛 年關將近新股抽籤好吸金  股民嗨翻拚賺「年終獎金」\n",
            "https://money.udn.com/money/story/5607/5985522?from=edn_search_result\n",
            "台股終場跌落萬八 收漲14.98點\n",
            "https://money.udn.com/money/story/11112/5985475?from=edn_search_result\n",
            "台指期收盤上漲7點 守住萬八點關卡\n",
            "https://money.udn.com/money/story/5612/5985464?from=edn_search_result\n",
            "台股盤中突破萬八大關  終場小漲14點收17961.64點\n",
            "https://money.udn.com/money/story/5612/5985442?from=edn_search_result\n",
            "高雄橋科廠商名單曝光 鴻海、順益等電動車產業進駐\n",
            "https://money.udn.com/money/story/5607/5985415?from=edn_search_result\n",
            "萬八點得而復失 台股收漲14點盤中創歷史新高\n",
            "https://money.udn.com/money/story/5635/5985402?from=edn_search_result\n",
            "橋科招商選地　搶進半導體、電動車大廠名單曝光\n",
            "https://money.udn.com/money/story/5612/5985325?from=edn_search_result\n",
            "橋科招商選地 搶進半導體、電動車大廠名單曝光\n",
            "https://money.udn.com/money/story/5612/5985313?from=edn_search_result\n",
            "英特爾謝承儒：測試和電晶體製造成本縮小 盼人才投入\n",
            "https://money.udn.com/money/story/5612/5985305?from=edn_search_result\n",
            "橋科今下午招商選地 這些半導體、電動車大廠搶進插旗\n",
            "https://money.udn.com/money/story/5613/5985118?from=edn_search_result\n",
            "存股族注意！金控逾千億現金股息 最快後年可提早發\n",
            "https://money.udn.com/money/story/5612/5984980?from=edn_search_result\n",
            "影／基辛格才嗆台又馬上求和　解析台積電與英特爾的糾葛\n",
            "https://money.udn.com/money/story/5599/5984914?from=edn_search_result\n",
            "iPhone 14高階面板 傳韓國樂金打破三星獨占供應\n",
            "https://money.udn.com/money/story/7307/5984917?from=edn_search_result\n",
            "2021台灣10大新聞  東奧佳績太魯閣號事件入列\n",
            "https://money.udn.com/money/story/5607/5984879?from=edn_search_result\n",
            "中小型股表現活潑 台股攻上萬八後震盪\n",
            "https://money.udn.com/money/story/7307/5984774?from=edn_search_result\n",
            "大廠進駐在即 立委催北高雄下水道建設加速\n",
            "https://money.udn.com/money/story/5612/5984729?from=edn_search_result\n",
            "台股早盤漲逾77點突破萬八 創波段新高\n",
            "https://money.udn.com/money/story/5607/5984699?from=edn_search_result\n",
            "台股早盤一度站上萬八大關 台積電開出平盤\n",
            "https://money.udn.com/money/story/11112/5984682?from=edn_search_result\n",
            "台指期開盤上漲63點 突破萬八關卡\n",
            "https://money.udn.com/money/story/5599/5984634?from=edn_search_result\n",
            "AMD增加採購格芯晶圓 合約延為4年金額21億美元\n",
            "https://money.udn.com/money/story/5599/5984612?from=edn_search_result\n",
            "台積電ADR跌0.5% 較台北交易股票溢價10.48%\n",
            "https://money.udn.com/money/story/5612/5984197?from=edn_search_result\n",
            "和泰車獵才 底薪調高20%\n",
            "https://money.udn.com/money/story/5607/5984289?from=edn_search_result\n",
            "台股內外資催動 衝關萬八\n",
            "https://money.udn.com/money/story/5612/5984378?from=edn_search_result\n",
            "日本瞄準電動車半導體  引台積電設廠重振九州矽島\n",
            "https://money.udn.com/money/story/5607/5983866?from=edn_search_result\n",
            "台積登600元 10檔概念股勇\n",
            "https://money.udn.com/money/story/11113/5983922?from=edn_search_result\n",
            "永續期 避險優選\n",
            "https://money.udn.com/money/story/5621/5984191?from=edn_search_result\n",
            "好想搬去當有錢人！全台最富裕八縣市揭曉，每戶可支配所得平均數100萬起跳\n",
            "https://money.udn.com/money/story/10869/5984127?from=edn_search_result\n",
            "2021年GDP成長破6 2022年還能一帆風順？\n",
            "https://money.udn.com/money/story/5612/5984089?from=edn_search_result\n",
            "台灣企業綠電供不應求　再生能源市場陷弱肉強食？\n",
            "https://money.udn.com/money/story/5607/5984080?from=edn_search_result\n",
            "黃崇仁：未來三年晶圓代工仍吃緊！謝金河看半導體股「美光最近股價給了答案」\n",
            "https://money.udn.com/money/story/5612/5983919?from=edn_search_result\n",
            "台積電送暖  北中南廠區巡迴舉辦愛心市集\n",
            "https://money.udn.com/money/story/122381/5983891?from=edn_search_result\n",
            "半導體分工確立，為何各國還拚招商？因為全球不想只依賴台灣和韓國\n",
            "https://money.udn.com/money/story/5621/5983897?from=edn_search_result\n",
            "房市愈打愈旺？5大銀行11月新增房貸金額創近6年新高\n",
            "57\n"
          ]
        }
      ]
    },
    {
      "cell_type": "code",
      "metadata": {
        "id": "nzObtHyxFUFU"
      },
      "source": [
        ""
      ],
      "execution_count": null,
      "outputs": []
    }
  ]
}
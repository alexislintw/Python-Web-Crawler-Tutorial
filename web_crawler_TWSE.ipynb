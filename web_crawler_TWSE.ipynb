{
  "nbformat": 4,
  "nbformat_minor": 0,
  "metadata": {
    "colab": {
      "name": "web_crawler_TWSE.ipynb",
      "provenance": [],
      "collapsed_sections": [],
      "mount_file_id": "1q7ZWHTFrWHUvLvea61PdILJR3HA_UBh8",
      "authorship_tag": "ABX9TyO3xCkfZkU2Cydz7xXSQhQ/",
      "include_colab_link": true
    },
    "kernelspec": {
      "name": "python3",
      "display_name": "Python 3"
    }
  },
  "cells": [
    {
      "cell_type": "markdown",
      "metadata": {
        "id": "view-in-github",
        "colab_type": "text"
      },
      "source": [
        "<a href=\"https://colab.research.google.com/github/alexislintw/Python-Web-Crawler-Tutorial/blob/main/web_crawler_TWSE.ipynb\" target=\"_parent\"><img src=\"https://colab.research.google.com/assets/colab-badge.svg\" alt=\"Open In Colab\"/></a>"
      ]
    },
    {
      "cell_type": "markdown",
      "metadata": {
        "id": "86khag3Bcutz"
      },
      "source": [
        "# Python Web Crawler Tutorial\n",
        "### Demonstrate how to crawl Taiwan Stock Exchange website to collect stock price data.\n",
        "\n",
        "- Author: Alexis\n",
        "- Created: 2020/11/13\n",
        "- Updated: 2022/3/2\n",
        "- Data Source: https://www.twse.com.tw/en/\n"
      ]
    },
    {
      "cell_type": "markdown",
      "metadata": {
        "id": "D1G2oJljc_gg"
      },
      "source": [
        "### Install toolkits"
      ]
    },
    {
      "cell_type": "code",
      "metadata": {
        "id": "Qv_kuEe_fkkr",
        "colab": {
          "base_uri": "https://localhost:8080/"
        },
        "outputId": "06579ab0-479f-4818-c540-9f90bf9e7f16"
      },
      "source": [
        "!pip install selenium"
      ],
      "execution_count": 1,
      "outputs": [
        {
          "output_type": "stream",
          "name": "stdout",
          "text": [
            "Collecting selenium\n",
            "  Downloading selenium-4.1.2-py3-none-any.whl (963 kB)\n",
            "\u001b[K     |████████████████████████████████| 963 kB 5.1 MB/s \n",
            "\u001b[?25hCollecting trio-websocket~=0.9\n",
            "  Downloading trio_websocket-0.9.2-py3-none-any.whl (16 kB)\n",
            "Collecting urllib3[secure,socks]~=1.26\n",
            "  Downloading urllib3-1.26.8-py2.py3-none-any.whl (138 kB)\n",
            "\u001b[K     |████████████████████████████████| 138 kB 61.4 MB/s \n",
            "\u001b[?25hCollecting trio~=0.17\n",
            "  Downloading trio-0.20.0-py3-none-any.whl (359 kB)\n",
            "\u001b[K     |████████████████████████████████| 359 kB 66.7 MB/s \n",
            "\u001b[?25hRequirement already satisfied: attrs>=19.2.0 in /usr/local/lib/python3.7/dist-packages (from trio~=0.17->selenium) (21.4.0)\n",
            "Requirement already satisfied: idna in /usr/local/lib/python3.7/dist-packages (from trio~=0.17->selenium) (2.10)\n",
            "Requirement already satisfied: sortedcontainers in /usr/local/lib/python3.7/dist-packages (from trio~=0.17->selenium) (2.4.0)\n",
            "Collecting async-generator>=1.9\n",
            "  Downloading async_generator-1.10-py3-none-any.whl (18 kB)\n",
            "Collecting outcome\n",
            "  Downloading outcome-1.1.0-py2.py3-none-any.whl (9.7 kB)\n",
            "Collecting sniffio\n",
            "  Downloading sniffio-1.2.0-py3-none-any.whl (10 kB)\n",
            "Collecting wsproto>=0.14\n",
            "  Downloading wsproto-1.1.0-py3-none-any.whl (24 kB)\n",
            "Collecting cryptography>=1.3.4\n",
            "  Downloading cryptography-36.0.1-cp36-abi3-manylinux_2_24_x86_64.whl (3.6 MB)\n",
            "\u001b[K     |████████████████████████████████| 3.6 MB 56.0 MB/s \n",
            "\u001b[?25hRequirement already satisfied: certifi in /usr/local/lib/python3.7/dist-packages (from urllib3[secure,socks]~=1.26->selenium) (2021.10.8)\n",
            "Collecting pyOpenSSL>=0.14\n",
            "  Downloading pyOpenSSL-22.0.0-py2.py3-none-any.whl (55 kB)\n",
            "\u001b[K     |████████████████████████████████| 55 kB 2.0 MB/s \n",
            "\u001b[?25hRequirement already satisfied: PySocks!=1.5.7,<2.0,>=1.5.6 in /usr/local/lib/python3.7/dist-packages (from urllib3[secure,socks]~=1.26->selenium) (1.7.1)\n",
            "Requirement already satisfied: cffi>=1.12 in /usr/local/lib/python3.7/dist-packages (from cryptography>=1.3.4->urllib3[secure,socks]~=1.26->selenium) (1.15.0)\n",
            "Requirement already satisfied: pycparser in /usr/local/lib/python3.7/dist-packages (from cffi>=1.12->cryptography>=1.3.4->urllib3[secure,socks]~=1.26->selenium) (2.21)\n",
            "Collecting h11<1,>=0.9.0\n",
            "  Downloading h11-0.13.0-py3-none-any.whl (58 kB)\n",
            "\u001b[K     |████████████████████████████████| 58 kB 5.5 MB/s \n",
            "\u001b[?25hRequirement already satisfied: typing-extensions in /usr/local/lib/python3.7/dist-packages (from h11<1,>=0.9.0->wsproto>=0.14->trio-websocket~=0.9->selenium) (3.10.0.2)\n",
            "Installing collected packages: sniffio, outcome, h11, cryptography, async-generator, wsproto, urllib3, trio, pyOpenSSL, trio-websocket, selenium\n",
            "  Attempting uninstall: urllib3\n",
            "    Found existing installation: urllib3 1.24.3\n",
            "    Uninstalling urllib3-1.24.3:\n",
            "      Successfully uninstalled urllib3-1.24.3\n",
            "\u001b[31mERROR: pip's dependency resolver does not currently take into account all the packages that are installed. This behaviour is the source of the following dependency conflicts.\n",
            "requests 2.23.0 requires urllib3!=1.25.0,!=1.25.1,<1.26,>=1.21.1, but you have urllib3 1.26.8 which is incompatible.\n",
            "datascience 0.10.6 requires folium==0.2.1, but you have folium 0.8.3 which is incompatible.\u001b[0m\n",
            "Successfully installed async-generator-1.10 cryptography-36.0.1 h11-0.13.0 outcome-1.1.0 pyOpenSSL-22.0.0 selenium-4.1.2 sniffio-1.2.0 trio-0.20.0 trio-websocket-0.9.2 urllib3-1.26.8 wsproto-1.1.0\n"
          ]
        }
      ]
    },
    {
      "cell_type": "markdown",
      "source": [
        "- *** You can ingore the above ERROR message."
      ],
      "metadata": {
        "id": "D0on-IM56G8a"
      }
    },
    {
      "cell_type": "code",
      "metadata": {
        "colab": {
          "base_uri": "https://localhost:8080/"
        },
        "id": "SKuxeHDxfZ9F",
        "outputId": "09028d95-52ce-4c21-d7bf-aed215a01bf3"
      },
      "source": [
        "!apt-get update"
      ],
      "execution_count": 2,
      "outputs": [
        {
          "output_type": "stream",
          "name": "stdout",
          "text": [
            "\r0% [Working]\r            \rGet:1 http://security.ubuntu.com/ubuntu bionic-security InRelease [88.7 kB]\n",
            "Get:2 https://cloud.r-project.org/bin/linux/ubuntu bionic-cran40/ InRelease [3,626 B]\n",
            "Ign:3 https://developer.download.nvidia.com/compute/cuda/repos/ubuntu1804/x86_64  InRelease\n",
            "Get:4 http://ppa.launchpad.net/c2d4u.team/c2d4u4.0+/ubuntu bionic InRelease [15.9 kB]\n",
            "Ign:5 https://developer.download.nvidia.com/compute/machine-learning/repos/ubuntu1804/x86_64  InRelease\n",
            "Get:6 https://developer.download.nvidia.com/compute/cuda/repos/ubuntu1804/x86_64  Release [696 B]\n",
            "Hit:7 http://archive.ubuntu.com/ubuntu bionic InRelease\n",
            "Hit:8 https://developer.download.nvidia.com/compute/machine-learning/repos/ubuntu1804/x86_64  Release\n",
            "Get:9 https://developer.download.nvidia.com/compute/cuda/repos/ubuntu1804/x86_64  Release.gpg [836 B]\n",
            "Get:10 http://archive.ubuntu.com/ubuntu bionic-updates InRelease [88.7 kB]\n",
            "Get:11 https://cloud.r-project.org/bin/linux/ubuntu bionic-cran40/ Packages [76.8 kB]\n",
            "Hit:12 http://ppa.launchpad.net/cran/libgit2/ubuntu bionic InRelease\n",
            "Hit:13 http://ppa.launchpad.net/deadsnakes/ppa/ubuntu bionic InRelease\n",
            "Get:14 http://archive.ubuntu.com/ubuntu bionic-backports InRelease [74.6 kB]\n",
            "Get:15 http://security.ubuntu.com/ubuntu bionic-security/universe amd64 Packages [1,474 kB]\n",
            "Get:16 http://ppa.launchpad.net/graphics-drivers/ppa/ubuntu bionic InRelease [21.3 kB]\n",
            "Get:17 http://security.ubuntu.com/ubuntu bionic-security/restricted amd64 Packages [806 kB]\n",
            "Get:18 http://security.ubuntu.com/ubuntu bionic-security/main amd64 Packages [2,596 kB]\n",
            "Get:19 http://ppa.launchpad.net/c2d4u.team/c2d4u4.0+/ubuntu bionic/main Sources [1,827 kB]\n",
            "Get:21 https://developer.download.nvidia.com/compute/cuda/repos/ubuntu1804/x86_64  Packages [931 kB]\n",
            "Get:22 http://ppa.launchpad.net/c2d4u.team/c2d4u4.0+/ubuntu bionic/main amd64 Packages [936 kB]\n",
            "Get:23 http://archive.ubuntu.com/ubuntu bionic-updates/universe amd64 Packages [2,252 kB]\n",
            "Get:24 http://archive.ubuntu.com/ubuntu bionic-updates/main amd64 Packages [3,035 kB]\n",
            "Get:25 http://archive.ubuntu.com/ubuntu bionic-updates/restricted amd64 Packages [840 kB]\n",
            "Get:26 http://ppa.launchpad.net/graphics-drivers/ppa/ubuntu bionic/main amd64 Packages [42.8 kB]\n",
            "Fetched 15.1 MB in 4s (3,857 kB/s)\n",
            "Reading package lists... Done\n"
          ]
        }
      ]
    },
    {
      "cell_type": "code",
      "metadata": {
        "id": "fAhoInR2ff8g",
        "colab": {
          "base_uri": "https://localhost:8080/"
        },
        "outputId": "a6d1be35-a12a-4e93-bd92-52744df857a5"
      },
      "source": [
        "!apt install chromium-chromedriver"
      ],
      "execution_count": 3,
      "outputs": [
        {
          "output_type": "stream",
          "name": "stdout",
          "text": [
            "Reading package lists... Done\n",
            "Building dependency tree       \n",
            "Reading state information... Done\n",
            "The following package was automatically installed and is no longer required:\n",
            "  libnvidia-common-470\n",
            "Use 'apt autoremove' to remove it.\n",
            "The following additional packages will be installed:\n",
            "  chromium-browser chromium-browser-l10n chromium-codecs-ffmpeg-extra\n",
            "Suggested packages:\n",
            "  webaccounts-chromium-extension unity-chromium-extension\n",
            "The following NEW packages will be installed:\n",
            "  chromium-browser chromium-browser-l10n chromium-chromedriver\n",
            "  chromium-codecs-ffmpeg-extra\n",
            "0 upgraded, 4 newly installed, 0 to remove and 75 not upgraded.\n",
            "Need to get 95.3 MB of archives.\n",
            "After this operation, 327 MB of additional disk space will be used.\n",
            "Get:1 http://archive.ubuntu.com/ubuntu bionic-updates/universe amd64 chromium-codecs-ffmpeg-extra amd64 97.0.4692.71-0ubuntu0.18.04.1 [1,142 kB]\n",
            "Get:2 http://archive.ubuntu.com/ubuntu bionic-updates/universe amd64 chromium-browser amd64 97.0.4692.71-0ubuntu0.18.04.1 [84.7 MB]\n",
            "Get:3 http://archive.ubuntu.com/ubuntu bionic-updates/universe amd64 chromium-browser-l10n all 97.0.4692.71-0ubuntu0.18.04.1 [4,370 kB]\n",
            "Get:4 http://archive.ubuntu.com/ubuntu bionic-updates/universe amd64 chromium-chromedriver amd64 97.0.4692.71-0ubuntu0.18.04.1 [5,055 kB]\n",
            "Fetched 95.3 MB in 4s (22.4 MB/s)\n",
            "Selecting previously unselected package chromium-codecs-ffmpeg-extra.\n",
            "(Reading database ... 155320 files and directories currently installed.)\n",
            "Preparing to unpack .../chromium-codecs-ffmpeg-extra_97.0.4692.71-0ubuntu0.18.04.1_amd64.deb ...\n",
            "Unpacking chromium-codecs-ffmpeg-extra (97.0.4692.71-0ubuntu0.18.04.1) ...\n",
            "Selecting previously unselected package chromium-browser.\n",
            "Preparing to unpack .../chromium-browser_97.0.4692.71-0ubuntu0.18.04.1_amd64.deb ...\n",
            "Unpacking chromium-browser (97.0.4692.71-0ubuntu0.18.04.1) ...\n",
            "Selecting previously unselected package chromium-browser-l10n.\n",
            "Preparing to unpack .../chromium-browser-l10n_97.0.4692.71-0ubuntu0.18.04.1_all.deb ...\n",
            "Unpacking chromium-browser-l10n (97.0.4692.71-0ubuntu0.18.04.1) ...\n",
            "Selecting previously unselected package chromium-chromedriver.\n",
            "Preparing to unpack .../chromium-chromedriver_97.0.4692.71-0ubuntu0.18.04.1_amd64.deb ...\n",
            "Unpacking chromium-chromedriver (97.0.4692.71-0ubuntu0.18.04.1) ...\n",
            "Setting up chromium-codecs-ffmpeg-extra (97.0.4692.71-0ubuntu0.18.04.1) ...\n",
            "Setting up chromium-browser (97.0.4692.71-0ubuntu0.18.04.1) ...\n",
            "update-alternatives: using /usr/bin/chromium-browser to provide /usr/bin/x-www-browser (x-www-browser) in auto mode\n",
            "update-alternatives: using /usr/bin/chromium-browser to provide /usr/bin/gnome-www-browser (gnome-www-browser) in auto mode\n",
            "Setting up chromium-chromedriver (97.0.4692.71-0ubuntu0.18.04.1) ...\n",
            "Setting up chromium-browser-l10n (97.0.4692.71-0ubuntu0.18.04.1) ...\n",
            "Processing triggers for man-db (2.8.3-2ubuntu0.1) ...\n",
            "Processing triggers for hicolor-icon-theme (0.17-2) ...\n",
            "Processing triggers for mime-support (3.60ubuntu1) ...\n",
            "Processing triggers for libc-bin (2.27-3ubuntu1.3) ...\n",
            "/sbin/ldconfig.real: /usr/local/lib/python3.7/dist-packages/ideep4py/lib/libmkldnn.so.0 is not a symbolic link\n",
            "\n"
          ]
        }
      ]
    },
    {
      "cell_type": "markdown",
      "metadata": {
        "id": "SVkKlbKBdRYP"
      },
      "source": [
        "### Custom methods for crawling data"
      ]
    },
    {
      "cell_type": "code",
      "metadata": {
        "id": "uorDs4BVZDob"
      },
      "source": [
        "import time\n",
        "from selenium.webdriver.support.ui import Select\n",
        "\n",
        "def download_csv_data(stock_no,date_year,date_month):\n",
        "\n",
        "    # Go to the \"Single Stock Daily Closing Price and Monthly Average Price\" page\n",
        "    url = 'https://www.twse.com.tw/zh/page/trading/exchange/STOCK_DAY_AVG.html'\n",
        "    driver.get(url)\n",
        "\n",
        "    # === Form Actions - Start ===\n",
        "    \n",
        "    # Click the drop-down menu\n",
        "    e_yy = Select(driver.find_element_by_name('yy'))\n",
        "    e_yy.select_by_value(date_year)\n",
        "    \n",
        "    e_mm = Select(driver.find_element_by_name('mm'))\n",
        "    e_mm.select_by_value(date_month)\n",
        "    \n",
        "    # Fill in the stock Number\n",
        "    e_stockNo = driver.find_element_by_name('stockNo')\n",
        "    e_stockNo.send_keys(stock_no)\n",
        "\n",
        "    # Submit\n",
        "    e_search = driver.find_element_by_css_selector('#main-form > div > div > form > a.button.search')\n",
        "    e_search.click()\n",
        "    \n",
        "    # === \bForm Actions - End ===\n",
        "\n",
        "    time.sleep(2)\n",
        "\n",
        "    # === Download csv files ===\n",
        "\n",
        "    # Get the link of \"CSV download\"\n",
        "    e_csv = driver.find_element_by_css_selector('#reports > div.tools > a.csv')\n",
        "    e_csv.click()\n",
        "\n",
        "    time.sleep(1)"
      ],
      "execution_count": 4,
      "outputs": []
    },
    {
      "cell_type": "markdown",
      "metadata": {
        "id": "iK4w9z8E095M"
      },
      "source": [
        "### Open the browser"
      ]
    },
    {
      "cell_type": "code",
      "metadata": {
        "id": "T3srLPbn3cXg",
        "colab": {
          "base_uri": "https://localhost:8080/"
        },
        "outputId": "f7c74d06-ed4f-4e6f-ba95-bbdf1f86ee74"
      },
      "source": [
        "import sys\n",
        "\n",
        "# Display system path\n",
        "print(sys.path)\n",
        "\n",
        "# Add the chromedriver to system path\n",
        "sys.path.append('/usr/lib/chromium-browser/chromedriver')\n",
        "\n",
        "# Display system path again\n",
        "print(sys.path)"
      ],
      "execution_count": 5,
      "outputs": [
        {
          "output_type": "stream",
          "name": "stdout",
          "text": [
            "['', '/content', '/env/python', '/usr/lib/python37.zip', '/usr/lib/python3.7', '/usr/lib/python3.7/lib-dynload', '/usr/local/lib/python3.7/dist-packages', '/usr/lib/python3/dist-packages', '/usr/local/lib/python3.7/dist-packages/IPython/extensions', '/root/.ipython']\n",
            "['', '/content', '/env/python', '/usr/lib/python37.zip', '/usr/lib/python3.7', '/usr/lib/python3.7/lib-dynload', '/usr/local/lib/python3.7/dist-packages', '/usr/lib/python3/dist-packages', '/usr/local/lib/python3.7/dist-packages/IPython/extensions', '/root/.ipython', '/usr/lib/chromium-browser/chromedriver']\n"
          ]
        }
      ]
    },
    {
      "cell_type": "code",
      "metadata": {
        "id": "dBGMVhIJ0-jL"
      },
      "source": [
        "# Import modules\n",
        "from selenium import webdriver\n",
        "\n",
        "# Set browser options\n",
        "options = webdriver.ChromeOptions()\n",
        "options.add_argument('--headless')\n",
        "options.add_argument('--no-sandbox')\n",
        "\n",
        "# Open the browser\n",
        "driver = webdriver.Chrome('chromedriver',options=options)"
      ],
      "execution_count": 6,
      "outputs": []
    },
    {
      "cell_type": "markdown",
      "metadata": {
        "id": "cXx0OtxQdbrb"
      },
      "source": [
        "### Collect stock price data\n",
        "-  Download csv file to current directory"
      ]
    },
    {
      "cell_type": "code",
      "metadata": {
        "id": "DIZCycboZJ6h",
        "colab": {
          "base_uri": "https://localhost:8080/"
        },
        "outputId": "dfb43b8e-da8e-4405-eef1-c37deb0766a1"
      },
      "source": [
        "# Set query parameters\n",
        "stock_list = ['2330']\n",
        "date_dict = {\n",
        "    '2021':['1','2','3','4','5','6','7','8','9','10','11','12'],\n",
        "    '2022':['1']\n",
        "}\n",
        "\n",
        "# Collect the data of each stock in sequence\n",
        "for stock in stock_list:\n",
        "    # run loop by year\n",
        "    for date_year in date_dict.keys():\n",
        "        # run loop by month\n",
        "        for date_month in date_dict[date_year]:\n",
        "            download_csv_data(stock, date_year, date_month)\n",
        "            print(f'Stock：{stock}, Month：{date_year}/{date_month} Downloaded')\n",
        "\n",
        "print('Done')"
      ],
      "execution_count": 7,
      "outputs": [
        {
          "output_type": "stream",
          "name": "stderr",
          "text": [
            "/usr/local/lib/python3.7/dist-packages/ipykernel_launcher.py:13: DeprecationWarning: find_element_by_name is deprecated. Please use find_element(by=By.NAME, value=name) instead\n",
            "  del sys.path[0]\n",
            "/usr/local/lib/python3.7/dist-packages/ipykernel_launcher.py:16: DeprecationWarning: find_element_by_name is deprecated. Please use find_element(by=By.NAME, value=name) instead\n",
            "  app.launch_new_instance()\n",
            "/usr/local/lib/python3.7/dist-packages/ipykernel_launcher.py:20: DeprecationWarning: find_element_by_name is deprecated. Please use find_element(by=By.NAME, value=name) instead\n",
            "/usr/local/lib/python3.7/dist-packages/ipykernel_launcher.py:24: DeprecationWarning: find_element_by_css_selector is deprecated. Please use find_element(by=By.CSS_SELECTOR, value=css_selector) instead\n",
            "/usr/local/lib/python3.7/dist-packages/ipykernel_launcher.py:34: DeprecationWarning: find_element_by_css_selector is deprecated. Please use find_element(by=By.CSS_SELECTOR, value=css_selector) instead\n"
          ]
        },
        {
          "output_type": "stream",
          "name": "stdout",
          "text": [
            "Stock：2330, Month：2021/1 Downloaded\n",
            "Stock：2330, Month：2021/2 Downloaded\n",
            "Stock：2330, Month：2021/3 Downloaded\n",
            "Stock：2330, Month：2021/4 Downloaded\n",
            "Stock：2330, Month：2021/5 Downloaded\n",
            "Stock：2330, Month：2021/6 Downloaded\n",
            "Stock：2330, Month：2021/7 Downloaded\n",
            "Stock：2330, Month：2021/8 Downloaded\n",
            "Stock：2330, Month：2021/9 Downloaded\n",
            "Stock：2330, Month：2021/10 Downloaded\n",
            "Stock：2330, Month：2021/11 Downloaded\n",
            "Stock：2330, Month：2021/12 Downloaded\n",
            "Stock：2330, Month：2022/1 Downloaded\n",
            "Done\n"
          ]
        }
      ]
    },
    {
      "cell_type": "markdown",
      "metadata": {
        "id": "SpZNF30J1JRx"
      },
      "source": [
        "### Close the browser"
      ]
    },
    {
      "cell_type": "code",
      "metadata": {
        "id": "Js5eu1Sz1Kfk",
        "colab": {
          "base_uri": "https://localhost:8080/"
        },
        "outputId": "982da055-627a-49c9-ca00-4b4c97e8d670"
      },
      "source": [
        "driver.quit()\n",
        "print('done')"
      ],
      "execution_count": 8,
      "outputs": [
        {
          "output_type": "stream",
          "name": "stdout",
          "text": [
            "done\n"
          ]
        }
      ]
    },
    {
      "cell_type": "markdown",
      "metadata": {
        "id": "MZJ4yS1z1VvI"
      },
      "source": [
        "### Move files and zip archives"
      ]
    },
    {
      "cell_type": "code",
      "metadata": {
        "id": "9huPRp9KOkT7"
      },
      "source": [
        "import os\n",
        "import shutil\n",
        "\n",
        "# 指定下載檔案存放的路徑\n",
        "downloaded_folder_path = './TWSE'\n",
        "\n",
        "# 檢查資料夾是否存在，若無則新增之, 若有則刪除其下所有檔案\n",
        "if not os.path.exists(downloaded_folder_path):\n",
        "    os.makedirs(downloaded_folder_path)"
      ],
      "execution_count": 9,
      "outputs": []
    },
    {
      "cell_type": "code",
      "metadata": {
        "id": "Y1vAgxwo_hV7"
      },
      "source": [
        "# 將全部csv檔移至指定的位置\n",
        "for file_name in os.listdir('./'):\n",
        "    if os.path.isfile(file_name) and file_name.split('.')[1] == 'csv':\n",
        "        src = './' + file_name\n",
        "        dst = downloaded_folder_path + '/' + file_name\n",
        "        shutil.move(src, dst)"
      ],
      "execution_count": 10,
      "outputs": []
    },
    {
      "cell_type": "code",
      "metadata": {
        "id": "o5yzGqb0_rnm",
        "colab": {
          "base_uri": "https://localhost:8080/"
        },
        "outputId": "3cd510a7-2cce-483c-aec2-8d6580a2abf7"
      },
      "source": [
        "# 壓縮資料夾\n",
        "shutil.make_archive('data', 'zip', root_dir=downloaded_folder_path)\n",
        "\n",
        "print('done')"
      ],
      "execution_count": 11,
      "outputs": [
        {
          "output_type": "stream",
          "name": "stdout",
          "text": [
            "done\n"
          ]
        }
      ]
    },
    {
      "cell_type": "code",
      "metadata": {
        "id": "YwKi9Sz3Pnvk"
      },
      "source": [
        "# 手動下載壓縮檔至本機"
      ],
      "execution_count": 12,
      "outputs": []
    },
    {
      "cell_type": "code",
      "metadata": {
        "id": "irceYcwl152B"
      },
      "source": [
        ""
      ],
      "execution_count": 12,
      "outputs": []
    }
  ]
}